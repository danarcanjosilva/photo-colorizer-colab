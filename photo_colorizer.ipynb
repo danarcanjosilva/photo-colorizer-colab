{
  "nbformat": 4,
  "nbformat_minor": 0,
  "metadata": {
    "colab": {
      "provenance": [],
      "gpuType": "T4"
    },
    "kernelspec": {
      "name": "python3",
      "display_name": "Python 3"
    },
    "language_info": {
      "name": "python"
    },
    "accelerator": "GPU"
  },
  "cells": [
    {
      "cell_type": "markdown",
      "source": [],
      "metadata": {
        "id": "LglTh_rhIeTJ"
      }
    },
    {
      "cell_type": "code",
      "source": [
        "# ✅ 1. Instala dependências corretas com fastai v1\n",
        "!pip install -q fastai==1.0.61 torch==1.7.1 torchvision==0.8.2\n",
        "\n",
        "# ✅ 2. Clona o repositório\n",
        "!git clone https://github.com/jantic/DeOldify.git\n",
        "%cd DeOldify\n",
        "\n",
        "# ✅ 3. Baixa o modelo de colorização artística\n",
        "!mkdir -p models\n",
        "!wget https://data.deepai.org/deoldify/ColorizeArtistic_gen.pth -O models/ColorizeArtistic_gen.pth\n",
        "\n",
        "# ✅ 4. Importa os módulos necessários\n",
        "from deoldify import device\n",
        "from deoldify.device_id import DeviceId\n",
        "from deoldify.visualize import *\n",
        "import warnings; warnings.filterwarnings(\"ignore\", category=UserWarning, message=\".*?Your .*? set is empty.*?\")\n",
        "\n",
        "# ✅ 5. Configura GPU se disponível\n",
        "device.set(device=DeviceId.GPU0)\n",
        "\n",
        "# ✅ 6. Instancia o colorizador\n",
        "colorizer = get_image_colorizer(artistic=True)\n",
        "\n",
        "# ✅ 7. Upload da imagem (se estiver no Google Colab)\n",
        "import os\n",
        "os.makedirs('test_images', exist_ok=True)\n",
        "\n",
        "from google.colab import files\n",
        "uploaded = files.upload()\n",
        "\n",
        "# ✅ 8. Move a imagem para a pasta correta\n",
        "import shutil\n",
        "for filename in uploaded.keys():\n",
        "    shutil.move(filename, f'test_images/{filename}')\n",
        "\n",
        "# ✅ 9. Coloriza (altere o nome da imagem abaixo para o nome do seu upload)\n",
        "colorizer.plot_transformed_image('test_images/sua_imagem.jpg', render_factor=35, display_render_factor=True, figsize=(20,20))\n"
      ],
      "metadata": {
        "id": "8XrPe4g50i5U"
      },
      "execution_count": null,
      "outputs": []
    }
  ]
}