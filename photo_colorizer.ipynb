{
  "nbformat": 4,
  "nbformat_minor": 0,
  "metadata": {
    "colab": {
      "provenance": [],
      "gpuType": "T4"
    },
    "kernelspec": {
      "name": "python3",
      "display_name": "Python 3"
    },
    "language_info": {
      "name": "python"
    },
    "accelerator": "GPU"
  },
  "cells": [
    {
      "cell_type": "code",
      "source": [
        "# ──────────────────────────────────────────────\n",
        "# 📌 CONFIGURAÇÃO INICIAL\n",
        "# ──────────────────────────────────────────────\n",
        "!git clone https://github.com/jantic/DeOldify.git DeOldify\n",
        "%cd DeOldify\n",
        "!git checkout ccb6bb5\n",
        "\n",
        "# Instala dependências\n",
        "!pip install -r requirements-colab.txt\n",
        "\n",
        "# Baixa o modelo pré-treinado\n",
        "!mkdir -p './models'\n",
        "!wget https://data.deepai.org/deoldify/ColorizeArtistic_gen.pth -O ./models/ColorizeArtistic_gen.pth\n",
        "\n",
        "# ──────────────────────────────────────────────\n",
        "# 📂 MONTANDO O GOOGLE DRIVE\n",
        "# ──────────────────────────────────────────────\n",
        "from google.colab import drive\n",
        "drive.mount('/content/drive')\n",
        "\n",
        "# ──────────────────────────────────────────────\n",
        "# 🧠 IMPORTANDO E CONFIGURANDO MODELO\n",
        "# ──────────────────────────────────────────────\n",
        "import torch\n",
        "from fastai.basic_train import Recorder\n",
        "torch.serialization.add_safe_globals({'Recorder': Recorder})\n",
        "\n",
        "from deoldify.visualize import *\n",
        "colorizer = get_image_colorizer(artistic=True)\n",
        "\n",
        "# ──────────────────────────────────────────────\n",
        "# 🎨 COLORIZANDO UMA IMAGEM\n",
        "# ──────────────────────────────────────────────\n",
        "# Substitua abaixo pelo caminho da sua imagem no Google Drive\n",
        "source_path = '/content/drive/MyDrive/sua-imagem-aqui.jpg'\n",
        "\n",
        "colorizer.plot_transformed_image(\n",
        "    path=Path(source_path),\n",
        "    render_factor=35,\n",
        "    display_render_factor=True,\n",
        "    figsize=(8,8)\n",
        ")\n"
      ],
      "metadata": {
        "id": "ArJnhViolO1T"
      },
      "execution_count": null,
      "outputs": []
    }
  ]
}