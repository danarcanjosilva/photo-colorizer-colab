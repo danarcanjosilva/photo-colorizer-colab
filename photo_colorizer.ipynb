{
  "nbformat": 4,
  "nbformat_minor": 0,
  "metadata": {
    "colab": {
      "provenance": []
    },
    "kernelspec": {
      "name": "python3",
      "display_name": "Python 3"
    },
    "language_info": {
      "name": "python"
    }
  },
  "cells": [
    {
      "cell_type": "code",
      "execution_count": null,
      "metadata": {
        "id": "pnK2o7RByFH9"
      },
      "outputs": [],
      "source": [
        "# 📦 Instalar dependências e clonar o repositório DeOldify\n",
        "!git clone https://github.com/jantic/DeOldify.git DeOldify\n",
        "%cd DeOldify\n",
        "!pip install -r requirements-colab.txt\n",
        "!mkdir 'models'\n",
        "\n",
        "# ⬇️ Baixar modelo pré-treinado para colorização\n",
        "!wget https://data.deepai.org/deoldify/ColorizeArtistic_gen.pth -O ./models/ColorizeArtistic_gen.pth\n",
        "\n",
        "# ⚙️ Imports necessários\n",
        "from deoldify import device\n",
        "from deoldify.device_id import DeviceId\n",
        "device.set(device=DeviceId.GPU0)\n",
        "\n",
        "import torch\n",
        "if not torch.cuda.is_available():\n",
        "    print('⚠️ GPU não está disponível. Vá em \"Ambiente de execução > Alterar tipo de hardware > GPU\"')\n",
        "\n",
        "# 🖼️ Colorizador\n",
        "from deoldify.visualize import *\n",
        "colorizer = get_image_colorizer(artistic=True)\n",
        "\n",
        "# 📷 Carregar e colorizar imagem\n",
        "image_url = 'https://upload.wikimedia.org/wikipedia/commons/9/9a/1920s_Group_Portrait.jpg'\n",
        "\n",
        "colorizer.plot_transformed_image(\n",
        "    url=image_url,\n",
        "    render_factor=35,\n",
        "    display_render_factor=True,\n",
        "    figsize=(8,8)\n",
        ")\n"
      ]
    }
  ]
}