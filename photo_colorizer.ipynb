{
  "nbformat": 4,
  "nbformat_minor": 0,
  "metadata": {
    "colab": {
      "provenance": []
    },
    "kernelspec": {
      "name": "python3",
      "display_name": "Python 3"
    },
    "language_info": {
      "name": "python"
    }
  },
  "cells": [
    {
      "cell_type": "code",
      "execution_count": null,
      "metadata": {
        "id": "pnK2o7RByFH9"
      },
      "outputs": [],
      "source": [
        "# 🧹 Limpar e clonar novamente a versão correta do DeOldify\n",
        "!rm -rf DeOldify\n",
        "!git clone https://github.com/jantic/DeOldify.git DeOldify\n",
        "%cd DeOldify\n",
        "\n",
        "# 📦 Instalar dependências\n",
        "!pip install -r requirements-colab.txt\n",
        "\n",
        "# ⬇️ Baixar o modelo de colorização\n",
        "!mkdir -p models\n",
        "!wget https://data.deepai.org/deoldify/ColorizeArtistic_gen.pth -O ./models/ColorizeArtistic_gen.pth\n",
        "\n",
        "from deoldify import device\n",
        "from deoldify.device_id import DeviceId\n",
        "import torch\n",
        "from functools import partial\n",
        "\n",
        "device.set(device=DeviceId.GPU0)\n",
        "\n",
        "if not torch.cuda.is_available():\n",
        "    print('⚠️ GPU não está disponível. Vá em \"Ambiente de execução > Alterar tipo de hardware > GPU\"')\n",
        "\n",
        "# ✅ Correção de segurança do PyTorch 2.6\n",
        "torch.serialization.add_safe_globals([partial])\n",
        "\n",
        "from deoldify.visualize import *\n",
        "colorizer = get_image_colorizer(artistic=True)\n",
        "\n",
        "from google.colab import drive\n",
        "drive.mount('/content/drive')\n",
        "\n",
        "# 📷 Caminho da sua imagem no Drive\n",
        "image_path = '/content/drive/MyDrive/sua_imagem.jpg'  # altere conforme seu arquivo\n",
        "\n",
        "# 🎨 Colorização da imagem\n",
        "colorizer.plot_transformed_image(\n",
        "    path=image_path,\n",
        "    render_factor=35,\n",
        "    display_render_factor=True,\n",
        "    figsize=(8,8)\n",
        ")\n"
      ]
    }
  ]
}